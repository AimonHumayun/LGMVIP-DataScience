{
 "cells": [
  {
   "cell_type": "markdown",
   "id": "27d77b57",
   "metadata": {},
   "source": [
    "# Lets Grow More"
   ]
  },
  {
   "cell_type": "markdown",
   "id": "02de653d",
   "metadata": {},
   "source": [
    "# Task 2 (Beginner Level Task)"
   ]
  },
  {
   "cell_type": "code",
   "execution_count": 1,
   "id": "fc353abb",
   "metadata": {},
   "outputs": [],
   "source": [
    "import cv2"
   ]
  },
  {
   "cell_type": "markdown",
   "id": "026c95e7",
   "metadata": {},
   "source": [
    "# Reading Image"
   ]
  },
  {
   "cell_type": "code",
   "execution_count": 17,
   "id": "6528fb9f",
   "metadata": {},
   "outputs": [
    {
     "data": {
      "text/plain": [
       "-1"
      ]
     },
     "execution_count": 17,
     "metadata": {},
     "output_type": "execute_result"
    }
   ],
   "source": [
    "im = cv2.imread(\"image.jpeg\")\n",
    "cv2.imshow(\"Image\",im)\n",
    "cv2.waitKey(0)\n",
    "cv2.destroyAllWindows()\n",
    "cv2.waitKey(1)"
   ]
  },
  {
   "cell_type": "markdown",
   "id": "e913cc64",
   "metadata": {},
   "source": [
    "# Gray Scale Image"
   ]
  },
  {
   "cell_type": "code",
   "execution_count": 3,
   "id": "e0f6a2cd",
   "metadata": {},
   "outputs": [
    {
     "data": {
      "text/plain": [
       "-1"
      ]
     },
     "execution_count": 3,
     "metadata": {},
     "output_type": "execute_result"
    }
   ],
   "source": [
    "im_gray = cv2.cvtColor(im, cv2.COLOR_BGR2GRAY)\n",
    "cv2.imshow(\"Gray_Image\",im_gray)\n",
    "cv2.waitKey(0)\n",
    "cv2.destroyAllWindows()\n",
    "cv2.waitKey(1)"
   ]
  },
  {
   "cell_type": "markdown",
   "id": "aef4622c",
   "metadata": {},
   "source": [
    "# Inverted Image"
   ]
  },
  {
   "cell_type": "code",
   "execution_count": 5,
   "id": "31b78216",
   "metadata": {},
   "outputs": [
    {
     "data": {
      "text/plain": [
       "-1"
      ]
     },
     "execution_count": 5,
     "metadata": {},
     "output_type": "execute_result"
    }
   ],
   "source": [
    "im_inv = cv2.bitwise_not(im_gray)\n",
    "cv2.imshow(\"Inv_Image\",im_inv)\n",
    "cv2.waitKey(0)\n",
    "cv2.destroyAllWindows()\n",
    "cv2.waitKey(1)"
   ]
  },
  {
   "cell_type": "markdown",
   "id": "88be3ce7",
   "metadata": {},
   "source": [
    "# Blurred Image"
   ]
  },
  {
   "cell_type": "code",
   "execution_count": 27,
   "id": "0339dfbb",
   "metadata": {},
   "outputs": [
    {
     "data": {
      "text/plain": [
       "-1"
      ]
     },
     "execution_count": 27,
     "metadata": {},
     "output_type": "execute_result"
    }
   ],
   "source": [
    "im_blur = cv2.GaussianBlur(im_inv, (7,7), 0)\n",
    "cv2.imshow(\"Blur_Image\",im_blur)\n",
    "cv2.waitKey(0)\n",
    "cv2.destroyAllWindows()\n",
    "cv2.waitKey(1)"
   ]
  },
  {
   "cell_type": "code",
   "execution_count": 28,
   "id": "9dd42104",
   "metadata": {},
   "outputs": [],
   "source": [
    "#Inverting Blurred Image\n",
    "im_blur_inv = cv2.bitwise_not(im_blur)"
   ]
  },
  {
   "cell_type": "markdown",
   "id": "3ce42f67",
   "metadata": {},
   "source": [
    "# Sketch"
   ]
  },
  {
   "cell_type": "code",
   "execution_count": 30,
   "id": "42d8c48f",
   "metadata": {},
   "outputs": [
    {
     "data": {
      "text/plain": [
       "-1"
      ]
     },
     "execution_count": 30,
     "metadata": {},
     "output_type": "execute_result"
    }
   ],
   "source": [
    "sketch = cv2.divide(im_gray, im_blur_inv, scale = 256.0)\n",
    "cv2.imshow(\"Image\",im)\n",
    "cv2.imshow(\"Sketch\",sketch)\n",
    "cv2.waitKey(0)\n",
    "cv2.destroyAllWindows()\n",
    "cv2.waitKey(1)"
   ]
  },
  {
   "cell_type": "code",
   "execution_count": null,
   "id": "5361326a",
   "metadata": {},
   "outputs": [],
   "source": []
  }
 ],
 "metadata": {
  "kernelspec": {
   "display_name": "Python 3 (ipykernel)",
   "language": "python",
   "name": "python3"
  },
  "language_info": {
   "codemirror_mode": {
    "name": "ipython",
    "version": 3
   },
   "file_extension": ".py",
   "mimetype": "text/x-python",
   "name": "python",
   "nbconvert_exporter": "python",
   "pygments_lexer": "ipython3",
   "version": "3.9.12"
  }
 },
 "nbformat": 4,
 "nbformat_minor": 5
}
